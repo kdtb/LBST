{
 "cells": [
  {
   "cell_type": "markdown",
   "id": "a00a351f-eb96-42de-9a1a-e47ef56d3a50",
   "metadata": {},
   "source": [
    "# Split mini representative dataset"
   ]
  },
  {
   "cell_type": "code",
   "execution_count": 1,
   "id": "630531b5-06d2-45a3-8b12-7a6e8c567d6f",
   "metadata": {},
   "outputs": [
    {
     "name": "stdout",
     "output_type": "stream",
     "text": [
      "Train set length:\n",
      "755\n",
      "Test set length:\n",
      "245\n",
      "Train set label distribution:\n",
      "0    398\n",
      "1    357\n",
      "Name: label, dtype: int64\n",
      "Test set label distribution:\n",
      "1    143\n",
      "0    102\n",
      "Name: label, dtype: int64\n"
     ]
    }
   ],
   "source": [
    "from createCSV import TrainTest\n",
    "import config\n",
    "\n",
    "if __name__ == \"__main__\":\n",
    "    csv = TrainTest(\n",
    "        base_dir = config.BASE_DIR,\n",
    "        all_csv = config.ALL_CSV,\n",
    "        train_csv = config.TRAIN_CSV,\n",
    "        test_csv = config.TEST_CSV,\n",
    "        label_column = config.LABEL_COLUMN,\n",
    "        test_size = config.TEST_SIZE,\n",
    "        seed = config.SEED)\n",
    "    csv.set_all_seeds()\n",
    "    csv.df()"
   ]
  },
  {
   "cell_type": "code",
   "execution_count": 2,
   "id": "1e52b27f-8b71-4a35-a3dc-ad0fbc604228",
   "metadata": {},
   "outputs": [
    {
     "name": "stdout",
     "output_type": "stream",
     "text": [
      "Original train set length:\n",
      "755\n",
      "New train set length and first n rows:\n",
      "613\n",
      "                                           file_name  label   parcel_id\n",
      "8   22-0249080_F796528C401EECCDE0530EEE260A12DE.jpeg      0  22-0249080\n",
      "9   22-0249080_F796528C45EEECCDE0530EEE260A12DE.jpeg      0  22-0249080\n",
      "16  22-0249181_F7F34037674E9508E0530EEE260A6CC9.jpeg      0  22-0249181\n",
      "17  22-0249181_F7F3403767749508E0530EEE260A6CC9.jpeg      0  22-0249181\n",
      "18  22-0249181_F7F3403767E39508E0530EEE260A6CC9.jpeg      0  22-0249181\n",
      "Val set length and first n rows:\n",
      "142\n",
      "                                          file_name  label   parcel_id\n",
      "0  22-0248171_F796528C3E03ECCDE0530EEE260A12DE.jpeg      0  22-0248171\n",
      "1  22-0248171_F796528C3E05ECCDE0530EEE260A12DE.jpeg      0  22-0248171\n",
      "2  22-0248171_F796528C4450ECCDE0530EEE260A12DE.jpeg      0  22-0248171\n",
      "3  22-0248171_F796528C4451ECCDE0530EEE260A12DE.jpeg      0  22-0248171\n",
      "4  22-0248171_F796528C4453ECCDE0530EEE260A12DE.jpeg      0  22-0248171\n",
      "Train set label distribution:\n",
      "1    309\n",
      "0    304\n",
      "Name: label, dtype: int64\n",
      "Val set label distribution:\n",
      "0    94\n",
      "1    48\n",
      "Name: label, dtype: int64\n"
     ]
    }
   ],
   "source": [
    "from createCSV import TrainVal\n",
    "import config\n",
    "\n",
    "if __name__ == \"__main__\":\n",
    "    csv1 = TrainVal(\n",
    "        orig_train_csv = config.TRAIN_CSV,\n",
    "        train_csv = config.TRAIN_CSV_1,\n",
    "        val_csv = config.VAL_CSV_1,\n",
    "        label_column = config.LABEL_COLUMN,\n",
    "        val_size = config.VAL_SIZE,\n",
    "        seed = config.SEED)\n",
    "    csv1.set_all_seeds()\n",
    "    csv1.df()"
   ]
  },
  {
   "cell_type": "code",
   "execution_count": 15,
   "id": "f8770c79-d5b8-4829-9ba4-5e1aba0d5876",
   "metadata": {},
   "outputs": [
    {
     "data": {
      "text/plain": [
       "ImageClassification(\n",
       "    crop_size=[224]\n",
       "    resize_size=[256]\n",
       "    mean=[0.485, 0.456, 0.406]\n",
       "    std=[0.229, 0.224, 0.225]\n",
       "    interpolation=InterpolationMode.BILINEAR\n",
       ")"
      ]
     },
     "execution_count": 15,
     "metadata": {},
     "output_type": "execute_result"
    }
   ],
   "source": [
    "from torchvision.models import vgg16, VGG16_Weights\n",
    "\n",
    "weights = VGG16_Weights.IMAGENET1K_V1\n",
    "preprocess_transform = weights.transforms()\n",
    "\n",
    "preprocess_transform"
   ]
  },
  {
   "cell_type": "markdown",
   "id": "414414bc-0cd6-4ab6-9563-ae0b2052d466",
   "metadata": {},
   "source": [
    "# Train model on mini representative dataset"
   ]
  },
  {
   "cell_type": "code",
   "execution_count": 1,
   "id": "477a43d9-35e5-4476-8de1-e1eba43ce4bd",
   "metadata": {},
   "outputs": [
    {
     "name": "stderr",
     "output_type": "stream",
     "text": [
      "Global seed set to 42\n",
      "GPU available: True (cuda), used: True\n",
      "TPU available: False, using: 0 TPU cores\n",
      "IPU available: False, using: 0 IPUs\n",
      "HPU available: False, using: 0 HPUs\n",
      "Missing logger folder: logs/view\n",
      "LOCAL_RANK: 0 - CUDA_VISIBLE_DEVICES: [0]\n",
      "\n",
      "   | Name            | Type             | Params\n",
      "------------------------------------------------------\n",
      "0  | model           | VGG              | 134 M \n",
      "1  | loss_fn         | CrossEntropyLoss | 0     \n",
      "2  | train_acc       | BinaryAccuracy   | 0     \n",
      "3  | val_acc         | BinaryAccuracy   | 0     \n",
      "4  | test_acc        | BinaryAccuracy   | 0     \n",
      "5  | train_recall    | BinaryRecall     | 0     \n",
      "6  | val_recall      | BinaryRecall     | 0     \n",
      "7  | train_precision | BinaryPrecision  | 0     \n",
      "8  | val_precision   | BinaryPrecision  | 0     \n",
      "9  | train_f1score   | BinaryF1Score    | 0     \n",
      "10 | val_f1score     | BinaryF1Score    | 0     \n",
      "------------------------------------------------------\n",
      "8.2 K     Trainable params\n",
      "134 M     Non-trainable params\n",
      "134 M     Total params\n",
      "537.075   Total estimated model params size (MB)\n"
     ]
    },
    {
     "name": "stdout",
     "output_type": "stream",
     "text": [
      "                                                                           \r"
     ]
    },
    {
     "name": "stderr",
     "output_type": "stream",
     "text": [
      "C:\\Users\\kaspe\\.conda\\envs\\LBST\\lib\\site-packages\\pytorch_lightning\\loops\\fit_loop.py:280: PossibleUserWarning: The number of training batches (20) is smaller than the logging interval Trainer(log_every_n_steps=50). Set a lower value for log_every_n_steps if you want to see logs for the training epoch.\n",
      "  rank_zero_warn(\n"
     ]
    },
    {
     "name": "stdout",
     "output_type": "stream",
     "text": [
      "Epoch 0: 100%|██████████| 20/20 [00:09<00:00,  2.04it/s, v_num=0_34]\n",
      "Validation: 0it [00:00, ?it/s]\u001b[A\n",
      "Validation:   0%|          | 0/5 [00:00<?, ?it/s]\u001b[A\n",
      "Validation DataLoader 0:   0%|          | 0/5 [00:00<?, ?it/s]\u001b[A\n",
      "Validation DataLoader 0:  20%|██        | 1/5 [00:00<00:01,  2.20it/s]\u001b[A\n",
      "Validation DataLoader 0:  40%|████      | 2/5 [00:00<00:00,  3.16it/s]\u001b[A\n",
      "Validation DataLoader 0:  60%|██████    | 3/5 [00:00<00:00,  3.71it/s]\u001b[A\n",
      "Validation DataLoader 0:  80%|████████  | 4/5 [00:00<00:00,  4.07it/s]\u001b[A\n",
      "Epoch 0: 100%|██████████| 20/20 [00:15<00:00,  1.31it/s, v_num=0_34]s]\u001b[A\n",
      "Epoch 1: 100%|██████████| 20/20 [00:10<00:00,  1.96it/s, v_num=0_34, train_loss=0.664, train_accuracy=0.615, train_recall=0.592, train_precision=0.606, train_f1score=0.560]\n",
      "Validation: 0it [00:00, ?it/s]\u001b[A\n",
      "Validation:   0%|          | 0/5 [00:00<?, ?it/s]\u001b[A\n",
      "Validation DataLoader 0:   0%|          | 0/5 [00:00<?, ?it/s]\u001b[A\n",
      "Validation DataLoader 0:  20%|██        | 1/5 [00:00<00:01,  2.30it/s]\u001b[A\n",
      "Validation DataLoader 0:  40%|████      | 2/5 [00:00<00:00,  3.22it/s]\u001b[A\n",
      "Validation DataLoader 0:  60%|██████    | 3/5 [00:00<00:00,  3.76it/s]\u001b[A\n",
      "Validation DataLoader 0:  80%|████████  | 4/5 [00:00<00:00,  4.11it/s]\u001b[A\n",
      "Epoch 1: 100%|██████████| 20/20 [00:15<00:00,  1.28it/s, v_num=0_34, train_loss=0.664, train_accuracy=0.615, train_recall=0.592, train_precision=0.606, train_f1score=0.560]\n",
      "Epoch 2: 100%|██████████| 20/20 [00:10<00:00,  1.98it/s, v_num=0_34, train_loss=0.573, train_accuracy=0.718, train_recall=0.781, train_precision=0.724, train_f1score=0.732]\n",
      "Validation: 0it [00:00, ?it/s]\u001b[A\n",
      "Validation:   0%|          | 0/5 [00:00<?, ?it/s]\u001b[A\n",
      "Validation DataLoader 0:   0%|          | 0/5 [00:00<?, ?it/s]\u001b[A\n",
      "Validation DataLoader 0:  20%|██        | 1/5 [00:00<00:01,  2.40it/s]\u001b[A\n",
      "Validation DataLoader 0:  40%|████      | 2/5 [00:00<00:00,  3.37it/s]\u001b[A\n",
      "Validation DataLoader 0:  60%|██████    | 3/5 [00:00<00:00,  3.90it/s]\u001b[A\n",
      "Validation DataLoader 0:  80%|████████  | 4/5 [00:00<00:00,  4.24it/s]\u001b[A\n",
      "Epoch 2: 100%|██████████| 20/20 [00:15<00:00,  1.29it/s, v_num=0_34, train_loss=0.573, train_accuracy=0.718, train_recall=0.781, train_precision=0.724, train_f1score=0.732]\n",
      "Epoch 3: 100%|██████████| 20/20 [00:09<00:00,  2.02it/s, v_num=0_34, train_loss=0.548, train_accuracy=0.736, train_recall=0.698, train_precision=0.806, train_f1score=0.716]\n",
      "Validation: 0it [00:00, ?it/s]\u001b[A\n",
      "Validation:   0%|          | 0/5 [00:00<?, ?it/s]\u001b[A\n",
      "Validation DataLoader 0:   0%|          | 0/5 [00:00<?, ?it/s]\u001b[A\n",
      "Validation DataLoader 0:  20%|██        | 1/5 [00:00<00:01,  2.85it/s]\u001b[A\n",
      "Validation DataLoader 0:  40%|████      | 2/5 [00:00<00:00,  3.79it/s]\u001b[A\n",
      "Validation DataLoader 0:  60%|██████    | 3/5 [00:00<00:00,  4.27it/s]\u001b[A\n",
      "Validation DataLoader 0:  80%|████████  | 4/5 [00:00<00:00,  4.56it/s]\u001b[A\n",
      "Epoch 3: 100%|██████████| 20/20 [00:15<00:00,  1.32it/s, v_num=0_34, train_loss=0.548, train_accuracy=0.736, train_recall=0.698, train_precision=0.806, train_f1score=0.716]\n",
      "Epoch 4: 100%|██████████| 20/20 [00:09<00:00,  2.02it/s, v_num=0_34, train_loss=0.493, train_accuracy=0.768, train_recall=0.777, train_precision=0.770, train_f1score=0.766]\n",
      "Validation: 0it [00:00, ?it/s]\u001b[A\n",
      "Validation:   0%|          | 0/5 [00:00<?, ?it/s]\u001b[A\n",
      "Validation DataLoader 0:   0%|          | 0/5 [00:00<?, ?it/s]\u001b[A\n",
      "Validation DataLoader 0:  20%|██        | 1/5 [00:00<00:01,  2.69it/s]\u001b[A\n",
      "Validation DataLoader 0:  40%|████      | 2/5 [00:00<00:00,  3.59it/s]\u001b[A\n",
      "Validation DataLoader 0:  60%|██████    | 3/5 [00:00<00:00,  4.10it/s]\u001b[A\n",
      "Validation DataLoader 0:  80%|████████  | 4/5 [00:00<00:00,  4.41it/s]\u001b[A\n",
      "Epoch 4: 100%|██████████| 20/20 [00:15<00:00,  1.32it/s, v_num=0_34, train_loss=0.493, train_accuracy=0.768, train_recall=0.777, train_precision=0.770, train_f1score=0.766]\n",
      "Epoch 5: 100%|██████████| 20/20 [00:09<00:00,  2.05it/s, v_num=0_34, train_loss=0.507, train_accuracy=0.747, train_recall=0.695, train_precision=0.764, train_f1score=0.723]\n",
      "Validation: 0it [00:00, ?it/s]\u001b[A\n",
      "Validation:   0%|          | 0/5 [00:00<?, ?it/s]\u001b[A\n",
      "Validation DataLoader 0:   0%|          | 0/5 [00:00<?, ?it/s]\u001b[A\n",
      "Validation DataLoader 0:  20%|██        | 1/5 [00:00<00:01,  2.44it/s]\u001b[A\n",
      "Validation DataLoader 0:  40%|████      | 2/5 [00:00<00:00,  3.41it/s]\u001b[A\n",
      "Validation DataLoader 0:  60%|██████    | 3/5 [00:00<00:00,  3.94it/s]\u001b[A\n",
      "Validation DataLoader 0:  80%|████████  | 4/5 [00:00<00:00,  4.27it/s]\u001b[A\n",
      "Epoch 5: 100%|██████████| 20/20 [00:15<00:00,  1.32it/s, v_num=0_34, train_loss=0.507, train_accuracy=0.747, train_recall=0.695, train_precision=0.764, train_f1score=0.723]\n",
      "Epoch 6: 100%|██████████| 20/20 [00:09<00:00,  2.00it/s, v_num=0_34, train_loss=0.487, train_accuracy=0.772, train_recall=0.758, train_precision=0.780, train_f1score=0.759]\n",
      "Validation: 0it [00:00, ?it/s]\u001b[A\n",
      "Validation:   0%|          | 0/5 [00:00<?, ?it/s]\u001b[A\n",
      "Validation DataLoader 0:   0%|          | 0/5 [00:00<?, ?it/s]\u001b[A\n",
      "Validation DataLoader 0:  20%|██        | 1/5 [00:00<00:01,  2.25it/s]\u001b[A\n",
      "Validation DataLoader 0:  40%|████      | 2/5 [00:00<00:00,  3.19it/s]\u001b[A\n",
      "Validation DataLoader 0:  60%|██████    | 3/5 [00:00<00:00,  3.72it/s]\u001b[A\n",
      "Validation DataLoader 0:  80%|████████  | 4/5 [00:00<00:00,  4.08it/s]\u001b[A\n",
      "Epoch 6: 100%|██████████| 20/20 [00:15<00:00,  1.30it/s, v_num=0_34, train_loss=0.487, train_accuracy=0.772, train_recall=0.758, train_precision=0.780, train_f1score=0.759]\n",
      "Epoch 7: 100%|██████████| 20/20 [00:10<00:00,  1.97it/s, v_num=0_34, train_loss=0.462, train_accuracy=0.785, train_recall=0.764, train_precision=0.794, train_f1score=0.773]\n",
      "Validation: 0it [00:00, ?it/s]\u001b[A\n",
      "Validation:   0%|          | 0/5 [00:00<?, ?it/s]\u001b[A\n",
      "Validation DataLoader 0:   0%|          | 0/5 [00:00<?, ?it/s]\u001b[A\n",
      "Validation DataLoader 0:  20%|██        | 1/5 [00:00<00:01,  2.82it/s]\u001b[A\n",
      "Validation DataLoader 0:  40%|████      | 2/5 [00:00<00:00,  3.76it/s]\u001b[A\n",
      "Validation DataLoader 0:  60%|██████    | 3/5 [00:00<00:00,  4.25it/s]\u001b[A\n",
      "Validation DataLoader 0:  80%|████████  | 4/5 [00:00<00:00,  4.54it/s]\u001b[A\n",
      "Epoch 7: 100%|██████████| 20/20 [00:15<00:00,  1.29it/s, v_num=0_34, train_loss=0.462, train_accuracy=0.785, train_recall=0.764, train_precision=0.794, train_f1score=0.773]\n",
      "Epoch 8: 100%|██████████| 20/20 [00:09<00:00,  2.01it/s, v_num=0_34, train_loss=0.492, train_accuracy=0.744, train_recall=0.768, train_precision=0.748, train_f1score=0.744]\n",
      "Validation: 0it [00:00, ?it/s]\u001b[A\n",
      "Validation:   0%|          | 0/5 [00:00<?, ?it/s]\u001b[A\n",
      "Validation DataLoader 0:   0%|          | 0/5 [00:00<?, ?it/s]\u001b[A\n",
      "Validation DataLoader 0:  20%|██        | 1/5 [00:00<00:01,  2.26it/s]\u001b[A\n",
      "Validation DataLoader 0:  40%|████      | 2/5 [00:00<00:00,  3.24it/s]\u001b[A\n",
      "Validation DataLoader 0:  60%|██████    | 3/5 [00:00<00:00,  3.78it/s]\u001b[A\n",
      "Validation DataLoader 0:  80%|████████  | 4/5 [00:00<00:00,  4.13it/s]\u001b[A\n",
      "Epoch 8: 100%|██████████| 20/20 [00:15<00:00,  1.30it/s, v_num=0_34, train_loss=0.492, train_accuracy=0.744, train_recall=0.768, train_precision=0.748, train_f1score=0.744]\n",
      "Epoch 9: 100%|██████████| 20/20 [00:09<00:00,  2.00it/s, v_num=0_34, train_loss=0.446, train_accuracy=0.780, train_recall=0.794, train_precision=0.781, train_f1score=0.781]\n",
      "Validation: 0it [00:00, ?it/s]\u001b[A\n",
      "Validation:   0%|          | 0/5 [00:00<?, ?it/s]\u001b[A\n",
      "Validation DataLoader 0:   0%|          | 0/5 [00:00<?, ?it/s]\u001b[A\n",
      "Validation DataLoader 0:  20%|██        | 1/5 [00:00<00:01,  2.71it/s]\u001b[A\n",
      "Validation DataLoader 0:  40%|████      | 2/5 [00:00<00:00,  3.66it/s]\u001b[A\n",
      "Validation DataLoader 0:  60%|██████    | 3/5 [00:00<00:00,  4.16it/s]\u001b[A\n",
      "Validation DataLoader 0:  80%|████████  | 4/5 [00:00<00:00,  4.46it/s]\u001b[A\n",
      "Epoch 9: 100%|██████████| 20/20 [00:15<00:00,  1.31it/s, v_num=0_34, train_loss=0.446, train_accuracy=0.780, train_recall=0.794, train_precision=0.781, train_f1score=0.781]\n",
      "Epoch 9: 100%|██████████| 20/20 [00:15<00:00,  1.31it/s, v_num=0_34, train_loss=0.455, train_accuracy=0.786, train_recall=0.787, train_precision=0.795, train_f1score=0.773]"
     ]
    },
    {
     "name": "stderr",
     "output_type": "stream",
     "text": [
      "`Trainer.fit` stopped: `max_epochs=10` reached.\n"
     ]
    },
    {
     "name": "stdout",
     "output_type": "stream",
     "text": [
      "Epoch 9: 100%|██████████| 20/20 [00:15<00:00,  1.31it/s, v_num=0_34, train_loss=0.455, train_accuracy=0.786, train_recall=0.787, train_precision=0.795, train_f1score=0.773]\n"
     ]
    }
   ],
   "source": [
    "# Train model\n",
    "from model import NN\n",
    "from customDataModule import CustomDataModule\n",
    "import config\n",
    "import pytorch_lightning as pl\n",
    "from lightning.pytorch.loggers import TensorBoardLogger\n",
    "from pytorch_lightning.loggers import CSVLogger\n",
    "from lightning.pytorch import seed_everything\n",
    "from pytorch_lightning.callbacks import ModelCheckpoint\n",
    "import torch\n",
    "import torchvision.models as models\n",
    "import torch.nn as nn\n",
    "\n",
    "seed_everything(\n",
    "    42, workers=True\n",
    ")  # By setting workers=True in seed_everything(), Lightning derives unique seeds across all dataloader workers and processes for torch, numpy and stdlib random number generators. When turned on, it ensures that e.g. data augmentations are not repeated across workers.\n",
    "\n",
    "\n",
    "callbacks = [ModelCheckpoint(\n",
    "    save_top_k=1, mode='min', monitor=\"val_loss\")]  # save top 1 model \n",
    "\n",
    "\n",
    "if __name__ == \"__main__\":\n",
    "    \n",
    "    pytorch_model = models.vgg16(weights='VGG16_Weights.DEFAULT')\n",
    "    \n",
    "    logger = TensorBoardLogger(\"tb_logs\", name=\"view\") # tb_logs is the folder, name is the name of the experiment/model\n",
    "    logger2 = CSVLogger(save_dir=\"logs/\", name=\"view\")\n",
    "    \n",
    "    model = NN(\n",
    "        model=pytorch_model,\n",
    "        input_shape=config.INPUT_SHAPE,\n",
    "        num_classes=config.NUM_CLASSES,\n",
    "        learning_rate=config.LEARNING_RATE,\n",
    "    )  # .to(device)\n",
    "    dm = CustomDataModule(\n",
    "        data_dir=config.DATA_DIR,\n",
    "        train_csv=config.TRAIN_CSV_1,\n",
    "        val_csv=config.VAL_CSV_1,\n",
    "        test_csv=config.TEST_CSV,\n",
    "        batch_size=config.BATCH_SIZE,\n",
    "        num_workers=config.NUM_WORKERS,\n",
    "    )\n",
    "    \n",
    "    trainer = pl.Trainer(\n",
    "        logger=[logger2, logger],\n",
    "        accelerator=config.ACCELERATOR,\n",
    "        devices=config.DEVICES,\n",
    "        min_epochs=config.MIN_EPOCHS,\n",
    "        max_epochs=config.MAX_EPOCHS,\n",
    "        deterministic=config.DETERMINISTIC,\n",
    "        callbacks=callbacks\n",
    "    )\n",
    "      # deterministic ensures random seed reproducibility\n",
    "\n",
    "    trainer.fit(model, dm)  # it will automatically know which dataloader to use\n",
    "\n",
    "# A general place to start is to set num_workers equal to the number of CPU cores on that machine. You can get the number of CPU cores in python using os.cpu_count(), but note that depending on your batch size, you may overflow RAM memory.\n"
   ]
  },
  {
   "cell_type": "code",
   "execution_count": 2,
   "id": "6637c46b-333f-48ff-84a6-090ebdcc2fc7",
   "metadata": {},
   "outputs": [
    {
     "data": {
      "text/plain": [
       "NN(\n",
       "  (model): VGG(\n",
       "    (features): Sequential(\n",
       "      (0): Conv2d(3, 64, kernel_size=(3, 3), stride=(1, 1), padding=(1, 1))\n",
       "      (1): ReLU(inplace=True)\n",
       "      (2): Conv2d(64, 64, kernel_size=(3, 3), stride=(1, 1), padding=(1, 1))\n",
       "      (3): ReLU(inplace=True)\n",
       "      (4): MaxPool2d(kernel_size=2, stride=2, padding=0, dilation=1, ceil_mode=False)\n",
       "      (5): Conv2d(64, 128, kernel_size=(3, 3), stride=(1, 1), padding=(1, 1))\n",
       "      (6): ReLU(inplace=True)\n",
       "      (7): Conv2d(128, 128, kernel_size=(3, 3), stride=(1, 1), padding=(1, 1))\n",
       "      (8): ReLU(inplace=True)\n",
       "      (9): MaxPool2d(kernel_size=2, stride=2, padding=0, dilation=1, ceil_mode=False)\n",
       "      (10): Conv2d(128, 256, kernel_size=(3, 3), stride=(1, 1), padding=(1, 1))\n",
       "      (11): ReLU(inplace=True)\n",
       "      (12): Conv2d(256, 256, kernel_size=(3, 3), stride=(1, 1), padding=(1, 1))\n",
       "      (13): ReLU(inplace=True)\n",
       "      (14): Conv2d(256, 256, kernel_size=(3, 3), stride=(1, 1), padding=(1, 1))\n",
       "      (15): ReLU(inplace=True)\n",
       "      (16): MaxPool2d(kernel_size=2, stride=2, padding=0, dilation=1, ceil_mode=False)\n",
       "      (17): Conv2d(256, 512, kernel_size=(3, 3), stride=(1, 1), padding=(1, 1))\n",
       "      (18): ReLU(inplace=True)\n",
       "      (19): Conv2d(512, 512, kernel_size=(3, 3), stride=(1, 1), padding=(1, 1))\n",
       "      (20): ReLU(inplace=True)\n",
       "      (21): Conv2d(512, 512, kernel_size=(3, 3), stride=(1, 1), padding=(1, 1))\n",
       "      (22): ReLU(inplace=True)\n",
       "      (23): MaxPool2d(kernel_size=2, stride=2, padding=0, dilation=1, ceil_mode=False)\n",
       "      (24): Conv2d(512, 512, kernel_size=(3, 3), stride=(1, 1), padding=(1, 1))\n",
       "      (25): ReLU(inplace=True)\n",
       "      (26): Conv2d(512, 512, kernel_size=(3, 3), stride=(1, 1), padding=(1, 1))\n",
       "      (27): ReLU(inplace=True)\n",
       "      (28): Conv2d(512, 512, kernel_size=(3, 3), stride=(1, 1), padding=(1, 1))\n",
       "      (29): ReLU(inplace=True)\n",
       "      (30): MaxPool2d(kernel_size=2, stride=2, padding=0, dilation=1, ceil_mode=False)\n",
       "    )\n",
       "    (avgpool): AdaptiveAvgPool2d(output_size=(7, 7))\n",
       "    (classifier): Sequential(\n",
       "      (0): Linear(in_features=25088, out_features=4096, bias=True)\n",
       "      (1): ReLU(inplace=True)\n",
       "      (2): Dropout(p=0.5, inplace=False)\n",
       "      (3): Linear(in_features=4096, out_features=4096, bias=True)\n",
       "      (4): ReLU(inplace=True)\n",
       "      (5): Dropout(p=0.5, inplace=False)\n",
       "      (6): Linear(in_features=4096, out_features=2, bias=True)\n",
       "    )\n",
       "  )\n",
       "  (loss_fn): CrossEntropyLoss()\n",
       "  (train_acc): BinaryAccuracy()\n",
       "  (val_acc): BinaryAccuracy()\n",
       "  (test_acc): BinaryAccuracy()\n",
       "  (train_recall): BinaryRecall()\n",
       "  (val_recall): BinaryRecall()\n",
       "  (train_precision): BinaryPrecision()\n",
       "  (val_precision): BinaryPrecision()\n",
       "  (train_f1score): BinaryF1Score()\n",
       "  (val_f1score): BinaryF1Score()\n",
       ")"
      ]
     },
     "execution_count": 2,
     "metadata": {},
     "output_type": "execute_result"
    }
   ],
   "source": [
    "model"
   ]
  },
  {
   "cell_type": "code",
   "execution_count": 3,
   "id": "3111a470-f603-4b3e-bd3a-20022c8d32cb",
   "metadata": {},
   "outputs": [
    {
     "data": {
      "image/png": "[encoded data removed]",
      "text/plain": [
       "<Figure size 640x480 with 1 Axes>"
      ]
     },
     "metadata": {},
     "output_type": "display_data"
    },
    {
     "data": {
      "image/png": "[encoded data removed]",
      "text/plain": [
       "<Figure size 640x480 with 1 Axes>"
      ]
     },
     "metadata": {},
     "output_type": "display_data"
    }
   ],
   "source": [
    "from plot_loss_and_acc import *\n",
    "plot_loss_and_acc(trainer.logger.log_dir, loss_ylim=(0.0, 2.0), acc_ylim=(0.0, 1.0))"
   ]
  },
  {
   "cell_type": "code",
   "execution_count": 4,
   "id": "9d57032b-1589-4d78-8ee4-9b9688dc84f1",
   "metadata": {},
   "outputs": [
    {
     "name": "stdout",
     "output_type": "stream",
     "text": [
      "logs/view\\version_0\\checkpoints\\epoch=8-step=180.ckpt\n"
     ]
    }
   ],
   "source": [
    "path = trainer.checkpoint_callback.best_model_path\n",
    "print(path)"
   ]
  },
  {
   "cell_type": "code",
   "execution_count": 5,
   "id": "6c5a89a9-459b-4710-bd2e-010737542d5e",
   "metadata": {},
   "outputs": [
    {
     "name": "stderr",
     "output_type": "stream",
     "text": [
      "Restoring states from the checkpoint path at logs/view\\version_0\\checkpoints\\epoch=8-step=180.ckpt\n",
      "LOCAL_RANK: 0 - CUDA_VISIBLE_DEVICES: [0]\n",
      "Loaded model weights from the checkpoint at logs/view\\version_0\\checkpoints\\epoch=8-step=180.ckpt\n"
     ]
    },
    {
     "name": "stdout",
     "output_type": "stream",
     "text": [
      "Validation DataLoader 0: 100%|██████████| 5/5 [00:01<00:00,  3.42it/s]\n"
     ]
    },
    {
     "data": {
      "text/html": [
       "<pre style=\"white-space:pre;overflow-x:auto;line-height:normal;font-family:Menlo,'DejaVu Sans Mono',consolas,'Courier New',monospace\">┏━━━━━━━━━━━━━━━━━━━━━━━━━━━┳━━━━━━━━━━━━━━━━━━━━━━━━━━━┓\n",
       "┃<span style=\"font-weight: bold\">      Validate metric      </span>┃<span style=\"font-weight: bold\">       DataLoader 0        </span>┃\n",
       "┡━━━━━━━━━━━━━━━━━━━━━━━━━━━╇━━━━━━━━━━━━━━━━━━━━━━━━━━━┩\n",
       "│<span style=\"color: #008080; text-decoration-color: #008080\">       val_accuracy        </span>│<span style=\"color: #800080; text-decoration-color: #800080\">    0.7183098793029785     </span>│\n",
       "│<span style=\"color: #008080; text-decoration-color: #008080\">        val_f1score        </span>│<span style=\"color: #800080; text-decoration-color: #800080\">    0.22523806989192963    </span>│\n",
       "│<span style=\"color: #008080; text-decoration-color: #008080\">         val_loss          </span>│<span style=\"color: #800080; text-decoration-color: #800080\">    0.5684890747070312     </span>│\n",
       "│<span style=\"color: #008080; text-decoration-color: #008080\">       val_precision       </span>│<span style=\"color: #800080; text-decoration-color: #800080\">    0.3239436745643616     </span>│\n",
       "│<span style=\"color: #008080; text-decoration-color: #008080\">        val_recall         </span>│<span style=\"color: #800080; text-decoration-color: #800080\">    0.17605634033679962    </span>│\n",
       "└───────────────────────────┴───────────────────────────┘\n",
       "</pre>\n"
      ],
      "text/plain": [
       "┏━━━━━━━━━━━━━━━━━━━━━━━━━━━┳━━━━━━━━━━━━━━━━━━━━━━━━━━━┓\n",
       "┃\u001b[1m \u001b[0m\u001b[1m     Validate metric     \u001b[0m\u001b[1m \u001b[0m┃\u001b[1m \u001b[0m\u001b[1m      DataLoader 0       \u001b[0m\u001b[1m \u001b[0m┃\n",
       "┡━━━━━━━━━━━━━━━━━━━━━━━━━━━╇━━━━━━━━━━━━━━━━━━━━━━━━━━━┩\n",
       "│\u001b[36m \u001b[0m\u001b[36m      val_accuracy       \u001b[0m\u001b[36m \u001b[0m│\u001b[35m \u001b[0m\u001b[35m   0.7183098793029785    \u001b[0m\u001b[35m \u001b[0m│\n",
       "│\u001b[36m \u001b[0m\u001b[36m       val_f1score       \u001b[0m\u001b[36m \u001b[0m│\u001b[35m \u001b[0m\u001b[35m   0.22523806989192963   \u001b[0m\u001b[35m \u001b[0m│\n",
       "│\u001b[36m \u001b[0m\u001b[36m        val_loss         \u001b[0m\u001b[36m \u001b[0m│\u001b[35m \u001b[0m\u001b[35m   0.5684890747070312    \u001b[0m\u001b[35m \u001b[0m│\n",
       "│\u001b[36m \u001b[0m\u001b[36m      val_precision      \u001b[0m\u001b[36m \u001b[0m│\u001b[35m \u001b[0m\u001b[35m   0.3239436745643616    \u001b[0m\u001b[35m \u001b[0m│\n",
       "│\u001b[36m \u001b[0m\u001b[36m       val_recall        \u001b[0m\u001b[36m \u001b[0m│\u001b[35m \u001b[0m\u001b[35m   0.17605634033679962   \u001b[0m\u001b[35m \u001b[0m│\n",
       "└───────────────────────────┴───────────────────────────┘\n"
      ]
     },
     "metadata": {},
     "output_type": "display_data"
    },
    {
     "data": {
      "text/plain": [
       "[{'val_loss': 0.5684890747070312,\n",
       "  'val_accuracy': 0.7183098793029785,\n",
       "  'val_recall': 0.17605634033679962,\n",
       "  'val_precision': 0.3239436745643616,\n",
       "  'val_f1score': 0.22523806989192963}]"
      ]
     },
     "execution_count": 5,
     "metadata": {},
     "output_type": "execute_result"
    }
   ],
   "source": [
    "trainer.validate(model=model, datamodule=dm, ckpt_path=path)"
   ]
  },
  {
   "cell_type": "code",
   "execution_count": 5,
   "id": "f1f40eb5-c7d1-4f92-9249-c766bca0b3dd",
   "metadata": {},
   "outputs": [
    {
     "ename": "NameError",
     "evalue": "name 'trainer' is not defined",
     "output_type": "error",
     "traceback": [
      "\u001b[1;31m---------------------------------------------------------------------------\u001b[0m",
      "\u001b[1;31mNameError\u001b[0m                                 Traceback (most recent call last)",
      "Cell \u001b[1;32mIn[5], line 1\u001b[0m\n\u001b[1;32m----> 1\u001b[0m \u001b[43mtrainer\u001b[49m\u001b[38;5;241m.\u001b[39mtest(model\u001b[38;5;241m=\u001b[39mmodel, datamodule\u001b[38;5;241m=\u001b[39mdm, ckpt_path\u001b[38;5;241m=\u001b[39mpath)\n",
      "\u001b[1;31mNameError\u001b[0m: name 'trainer' is not defined"
     ]
    }
   ],
   "source": [
    "trainer.test(model=model, datamodule=dm, ckpt_path=path)"
   ]
  },
  {
   "cell_type": "code",
   "execution_count": 7,
   "id": "34c993d0-8b85-41ea-98c6-58af391fbf66",
   "metadata": {},
   "outputs": [],
   "source": [
    "lightning_model = NN.load_from_checkpoint(\n",
    "    path, model=pytorch_model)\n",
    "lightning_model.eval();"
   ]
  },
  {
   "cell_type": "code",
   "execution_count": 19,
   "id": "1544630e-c15d-4c4e-be02-b2ae756d3b32",
   "metadata": {},
   "outputs": [],
   "source": [
    "from customDataModule import CustomDataModule\n",
    "import config\n",
    "if __name__ == \"__main__\":\n",
    "    \n",
    "    test_dm = CustomDataModule(\n",
    "        data_dir=r\"C:/Users/kaspe/OneDrive - Aarhus Universitet/Skrivebord/BI/4. semester/Data/LBST/all\",\n",
    "        train_csv=r\"\",\n",
    "        val_csv=r\"\",\n",
    "        test_csv=r\"C:/Users/kaspe/OneDrive - Aarhus Universitet/Skrivebord/BI/4. semester/Data/LBST/test_set.csv\",\n",
    "        batch_size=config.BATCH_SIZE,\n",
    "        num_workers=config.NUM_WORKERS,\n",
    "        )"
   ]
  },
  {
   "cell_type": "code",
   "execution_count": 21,
   "id": "cbb09d77-5da5-4133-b8db-619c619b36fb",
   "metadata": {},
   "outputs": [
    {
     "data": {
      "text/plain": [
       "<customDataModule.CustomDataModule at 0x240382008e0>"
      ]
     },
     "execution_count": 21,
     "metadata": {},
     "output_type": "execute_result"
    }
   ],
   "source": [
    "test_dm"
   ]
  },
  {
   "cell_type": "code",
   "execution_count": 10,
   "id": "57f4a3f2-7597-4f12-8c95-beedbca50ef9",
   "metadata": {},
   "outputs": [
    {
     "ename": "AttributeError",
     "evalue": "'CustomDataModule' object has no attribute 'test_set'",
     "output_type": "error",
     "traceback": [
      "\u001b[1;31m---------------------------------------------------------------------------\u001b[0m",
      "\u001b[1;31mAttributeError\u001b[0m                            Traceback (most recent call last)",
      "Cell \u001b[1;32mIn[10], line 1\u001b[0m\n\u001b[1;32m----> 1\u001b[0m \u001b[43mtest_dm\u001b[49m\u001b[38;5;241;43m.\u001b[39;49m\u001b[43mtest_dataloader\u001b[49m\u001b[43m(\u001b[49m\u001b[43m)\u001b[49m\n",
      "File \u001b[1;32m~\\LBST\\m_view\\customDataModule.py:74\u001b[0m, in \u001b[0;36mCustomDataModule.test_dataloader\u001b[1;34m(self)\u001b[0m\n\u001b[0;32m     72\u001b[0m \u001b[38;5;28;01mdef\u001b[39;00m \u001b[38;5;21mtest_dataloader\u001b[39m(\u001b[38;5;28mself\u001b[39m):\n\u001b[0;32m     73\u001b[0m     \u001b[38;5;28;01mreturn\u001b[39;00m DataLoader(\n\u001b[1;32m---> 74\u001b[0m         dataset\u001b[38;5;241m=\u001b[39m\u001b[38;5;28;43mself\u001b[39;49m\u001b[38;5;241;43m.\u001b[39;49m\u001b[43mtest_set\u001b[49m,\n\u001b[0;32m     75\u001b[0m         batch_size\u001b[38;5;241m=\u001b[39m\u001b[38;5;28mself\u001b[39m\u001b[38;5;241m.\u001b[39mbatch_size,\n\u001b[0;32m     76\u001b[0m         num_workers\u001b[38;5;241m=\u001b[39m\u001b[38;5;28mself\u001b[39m\u001b[38;5;241m.\u001b[39mnum_workers,\n\u001b[0;32m     77\u001b[0m         shuffle\u001b[38;5;241m=\u001b[39m\u001b[38;5;28;01mFalse\u001b[39;00m,\n\u001b[0;32m     78\u001b[0m     )\n",
      "\u001b[1;31mAttributeError\u001b[0m: 'CustomDataModule' object has no attribute 'test_set'"
     ]
    }
   ],
   "source": [
    "test_dm.test_dataloader()"
   ]
  },
  {
   "cell_type": "code",
   "execution_count": 15,
   "id": "08ff71d4-9080-427e-b0cf-0df1d2906b3d",
   "metadata": {},
   "outputs": [
    {
     "name": "stderr",
     "output_type": "stream",
     "text": [
      "Global seed set to 42\n"
     ]
    },
    {
     "ename": "NameError",
     "evalue": "name 'dm' is not defined",
     "output_type": "error",
     "traceback": [
      "\u001b[1;31m---------------------------------------------------------------------------\u001b[0m",
      "\u001b[1;31mNameError\u001b[0m                                 Traceback (most recent call last)",
      "Cell \u001b[1;32mIn[16], line 18\u001b[0m\n\u001b[0;32m     11\u001b[0m \u001b[38;5;28;01mimport\u001b[39;00m \u001b[38;5;21;01mtorch\u001b[39;00m\u001b[38;5;21;01m.\u001b[39;00m\u001b[38;5;21;01mnn\u001b[39;00m \u001b[38;5;28;01mas\u001b[39;00m \u001b[38;5;21;01mnn\u001b[39;00m\n\u001b[0;32m     13\u001b[0m seed_everything(\n\u001b[0;32m     14\u001b[0m     \u001b[38;5;241m42\u001b[39m, workers\u001b[38;5;241m=\u001b[39m\u001b[38;5;28;01mTrue\u001b[39;00m\n\u001b[0;32m     15\u001b[0m )\n\u001b[1;32m---> 18\u001b[0m test_dataloader \u001b[38;5;241m=\u001b[39m \u001b[43mdm\u001b[49m\u001b[38;5;241m.\u001b[39mval_dataloader() \u001b[38;5;66;03m# The test dataloader is used as example here\u001b[39;00m\n\u001b[0;32m     20\u001b[0m \u001b[38;5;66;03m#test_dataloader = test_dm.test_dataloader()\u001b[39;00m\n\u001b[0;32m     22\u001b[0m all_true_labels \u001b[38;5;241m=\u001b[39m []\n",
      "\u001b[1;31mNameError\u001b[0m: name 'dm' is not defined"
     ]
    }
   ],
   "source": [
    "test_dataloader = dm.val_dataloader() # The test dataloader is used as example here\n",
    "\n",
    "#test_dataloader = test_dm.test_dataloader()\n",
    "\n",
    "all_true_labels = []\n",
    "all_predicted_labels = []\n",
    "for batch in test_dataloader:\n",
    "    features, labels = batch\n",
    "    \n",
    "    with torch.no_grad():\n",
    "        logits = lightning_model(features)\n",
    "\n",
    "    predicted_labels = torch.argmax(logits, dim=1)\n",
    "    all_predicted_labels.append(predicted_labels)\n",
    "    all_true_labels.append(labels)\n",
    "    \n",
    "all_predicted_labels = torch.cat(all_predicted_labels)\n",
    "all_true_labels = torch.cat(all_true_labels)"
   ]
  },
  {
   "cell_type": "code",
   "execution_count": 9,
   "id": "dbe65325-7c25-4696-bc8a-e85046a5be64",
   "metadata": {},
   "outputs": [
    {
     "data": {
      "text/plain": [
       "tensor([0, 0, 0, 0, 0, 0, 0, 0, 0, 1, 0, 0, 0, 0, 0, 0, 0, 0, 1, 0, 0, 0, 0, 0,\n",
       "        0, 0, 0, 0, 1, 1, 0, 0, 0, 0, 0, 0, 0, 0, 1, 0, 0, 0, 0, 0, 0, 0, 0, 0,\n",
       "        0, 0, 0, 0, 0, 0, 0, 0, 0, 0, 1, 1, 1, 0, 0, 0, 1, 0, 0, 0, 0, 1, 1, 1,\n",
       "        1, 1, 0, 0, 1, 1, 0, 0, 0, 0, 0, 0, 1, 0, 0, 0, 0, 0, 0, 0, 0, 0, 0, 0,\n",
       "        0, 0, 0, 0, 0, 0, 0, 1, 1, 1, 1, 1, 1, 0, 1, 1, 0, 0, 1, 1, 1, 1, 1, 0,\n",
       "        1, 0, 1, 1, 1, 1, 1, 1, 1, 1, 0, 1, 1, 0, 0, 0, 0, 0, 0, 0, 0, 1])"
      ]
     },
     "execution_count": 9,
     "metadata": {},
     "output_type": "execute_result"
    }
   ],
   "source": [
    "all_predicted_labels"
   ]
  },
  {
   "cell_type": "code",
   "execution_count": 11,
   "id": "d4028afa-5832-4053-9c45-eaf0e5938bfc",
   "metadata": {},
   "outputs": [
    {
     "data": {
      "text/plain": [
       "tensor([0, 0, 0, 0, 0, 0, 0, 0, 0, 0, 0, 0, 0, 0, 0, 0, 0, 0, 0, 0, 0, 0, 0, 0,\n",
       "        0, 0, 0, 0, 0, 0, 0, 0, 0, 0, 0, 0, 0, 0, 0, 0, 0, 0, 0, 0, 0, 0, 0, 0,\n",
       "        0, 0, 0, 0, 0, 0, 0, 0, 0, 0, 0, 0, 0, 0, 0, 0, 0, 0, 0, 0, 0, 0, 0, 0,\n",
       "        0, 0, 0, 0, 0, 0, 0, 0, 0, 0, 0, 0, 0, 0, 0, 0, 0, 0, 0, 0, 0, 0, 1, 1,\n",
       "        1, 1, 1, 1, 1, 1, 1, 1, 1, 1, 1, 1, 1, 1, 1, 1, 1, 1, 1, 1, 1, 1, 1, 1,\n",
       "        1, 1, 1, 1, 1, 1, 1, 1, 1, 1, 1, 1, 1, 1, 1, 1, 1, 1, 1, 1, 1, 1])"
      ]
     },
     "execution_count": 11,
     "metadata": {},
     "output_type": "execute_result"
    }
   ],
   "source": [
    "all_true_labels"
   ]
  },
  {
   "cell_type": "code",
   "execution_count": 10,
   "id": "b131014e-cd61-4473-a677-9c80faaed116",
   "metadata": {},
   "outputs": [
    {
     "name": "stdout",
     "output_type": "stream",
     "text": [
      "Test accuracy: 0.7183 (71.83%)\n"
     ]
    }
   ],
   "source": [
    "test_acc = torch.mean((all_predicted_labels == all_true_labels).float())\n",
    "print(f'Test accuracy: {test_acc:.4f} ({test_acc*100:.2f}%)')"
   ]
  },
  {
   "cell_type": "code",
   "execution_count": 38,
   "id": "30c0a176-fd64-4943-826c-74a470c68164",
   "metadata": {},
   "outputs": [
    {
     "data": {
      "text/plain": [
       "tensor([[77, 17],\n",
       "        [23, 25]])"
      ]
     },
     "execution_count": 38,
     "metadata": {},
     "output_type": "execute_result"
    }
   ],
   "source": [
    "import torchmetrics\n",
    "confmat = torchmetrics.ConfusionMatrix(task = 'binary')\n",
    "cm = confmat(all_predicted_labels, all_true_labels)\n",
    "cm"
   ]
  },
  {
   "cell_type": "code",
   "execution_count": 48,
   "id": "0d2aa884-0015-4506-ad92-97a9889ad5d0",
   "metadata": {},
   "outputs": [
    {
     "data": {
      "image/png": "[encoded data removed]",
      "text/plain": [
       "<Figure size 640x480 with 1 Axes>"
      ]
     },
     "metadata": {},
     "output_type": "display_data"
    }
   ],
   "source": [
    "import matplotlib.pyplot as plt\n",
    "from mlxtend.plotting import plot_confusion_matrix\n",
    "\n",
    "fig, ax = plot_confusion_matrix(conf_mat=cm.numpy(),\n",
    "                                   hide_spines=False,\n",
    "                                   hide_ticks=False,\n",
    "                                   figsize=None,\n",
    "                                   cmap=None,\n",
    "                                   colorbar=False,\n",
    "                                   show_absolute=True,\n",
    "                                   show_normed=False,\n",
    "                                   norm_colormap=None,\n",
    "                                   class_names=None,\n",
    "                                   figure=None,\n",
    "                                   axis=None,\n",
    "                                   fontcolor_threshold=0.5,)\n",
    "plt.show()"
   ]
  },
  {
   "cell_type": "code",
   "execution_count": 9,
   "id": "a6e0a03d-1ec2-4f99-a38b-eac0eb8bd0b1",
   "metadata": {},
   "outputs": [
    {
     "data": {
      "text/plain": [
       "NN(\n",
       "  (model): VGG(\n",
       "    (features): Sequential(\n",
       "      (0): Conv2d(3, 64, kernel_size=(3, 3), stride=(1, 1), padding=(1, 1))\n",
       "      (1): ReLU(inplace=True)\n",
       "      (2): Conv2d(64, 64, kernel_size=(3, 3), stride=(1, 1), padding=(1, 1))\n",
       "      (3): ReLU(inplace=True)\n",
       "      (4): MaxPool2d(kernel_size=2, stride=2, padding=0, dilation=1, ceil_mode=False)\n",
       "      (5): Conv2d(64, 128, kernel_size=(3, 3), stride=(1, 1), padding=(1, 1))\n",
       "      (6): ReLU(inplace=True)\n",
       "      (7): Conv2d(128, 128, kernel_size=(3, 3), stride=(1, 1), padding=(1, 1))\n",
       "      (8): ReLU(inplace=True)\n",
       "      (9): MaxPool2d(kernel_size=2, stride=2, padding=0, dilation=1, ceil_mode=False)\n",
       "      (10): Conv2d(128, 256, kernel_size=(3, 3), stride=(1, 1), padding=(1, 1))\n",
       "      (11): ReLU(inplace=True)\n",
       "      (12): Conv2d(256, 256, kernel_size=(3, 3), stride=(1, 1), padding=(1, 1))\n",
       "      (13): ReLU(inplace=True)\n",
       "      (14): Conv2d(256, 256, kernel_size=(3, 3), stride=(1, 1), padding=(1, 1))\n",
       "      (15): ReLU(inplace=True)\n",
       "      (16): MaxPool2d(kernel_size=2, stride=2, padding=0, dilation=1, ceil_mode=False)\n",
       "      (17): Conv2d(256, 512, kernel_size=(3, 3), stride=(1, 1), padding=(1, 1))\n",
       "      (18): ReLU(inplace=True)\n",
       "      (19): Conv2d(512, 512, kernel_size=(3, 3), stride=(1, 1), padding=(1, 1))\n",
       "      (20): ReLU(inplace=True)\n",
       "      (21): Conv2d(512, 512, kernel_size=(3, 3), stride=(1, 1), padding=(1, 1))\n",
       "      (22): ReLU(inplace=True)\n",
       "      (23): MaxPool2d(kernel_size=2, stride=2, padding=0, dilation=1, ceil_mode=False)\n",
       "      (24): Conv2d(512, 512, kernel_size=(3, 3), stride=(1, 1), padding=(1, 1))\n",
       "      (25): ReLU(inplace=True)\n",
       "      (26): Conv2d(512, 512, kernel_size=(3, 3), stride=(1, 1), padding=(1, 1))\n",
       "      (27): ReLU(inplace=True)\n",
       "      (28): Conv2d(512, 512, kernel_size=(3, 3), stride=(1, 1), padding=(1, 1))\n",
       "      (29): ReLU(inplace=True)\n",
       "      (30): MaxPool2d(kernel_size=2, stride=2, padding=0, dilation=1, ceil_mode=False)\n",
       "    )\n",
       "    (avgpool): AdaptiveAvgPool2d(output_size=(7, 7))\n",
       "    (classifier): Sequential(\n",
       "      (0): Linear(in_features=25088, out_features=4096, bias=True)\n",
       "      (1): ReLU(inplace=True)\n",
       "      (2): Dropout(p=0.5, inplace=False)\n",
       "      (3): Linear(in_features=4096, out_features=4096, bias=True)\n",
       "      (4): ReLU(inplace=True)\n",
       "      (5): Dropout(p=0.5, inplace=False)\n",
       "      (6): Linear(in_features=4096, out_features=1000, bias=True)\n",
       "    )\n",
       "  )\n",
       "  (classifier): Linear(in_features=1000, out_features=2, bias=True)\n",
       "  (loss_fn): CrossEntropyLoss()\n",
       "  (train_acc): MulticlassAccuracy()\n",
       "  (val_acc): MulticlassAccuracy()\n",
       "  (train_recall): MulticlassRecall()\n",
       "  (train_precision): MulticlassPrecision()\n",
       "  (train_f1score): MulticlassF1Score()\n",
       ")"
      ]
     },
     "execution_count": 9,
     "metadata": {},
     "output_type": "execute_result"
    }
   ],
   "source": [
    "model"
   ]
  }
 ],
 "metadata": {
  "kernelspec": {
   "display_name": "Python 3 (ipykernel)",
   "language": "python",
   "name": "python3"
  },
  "language_info": {
   "codemirror_mode": {
    "name": "ipython",
    "version": 3
   },
   "file_extension": ".py",
   "mimetype": "text/x-python",
   "name": "python",
   "nbconvert_exporter": "python",
   "pygments_lexer": "ipython3",
   "version": "3.10.9"
  }
 },
 "nbformat": 4,
 "nbformat_minor": 5
}
