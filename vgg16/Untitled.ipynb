{
 "cells": [
  {
   "cell_type": "code",
   "execution_count": 6,
   "id": "0ac7bd21-a73c-41c0-8de6-da6d960b6f56",
   "metadata": {},
   "outputs": [
    {
     "data": {
      "text/plain": [
       "tensor(0.6667)"
      ]
     },
     "execution_count": 6,
     "metadata": {},
     "output_type": "execute_result"
    }
   ],
   "source": [
    "from torchmetrics.classification import BinaryAccuracy\n",
    "from torch import nn\n",
    "\n",
    "y = torch.tensor([0, 1, 0, 1, 0, 1], dtype = torch.float)\n",
    "scores = torch.tensor([0.11, 0.22, 0.84, 0.73, 0.33, 0.92], dtype = torch.float).reshape(1, -1)\n",
    "\n",
    "## Check The shape of y and scores\n",
    "y.shape, scores.shape\n",
    "\n",
    "## Binary Cross Entropy Loss\n",
    "nn.BCELoss()(scores.view(-1), y.view(-1))\n",
    "\n",
    "## torchmetrics.BinaryAccuracy\n",
    "BinaryAccuracy()(scores.view(-1), y.view(-1))"
   ]
  },
  {
   "cell_type": "code",
   "execution_count": 7,
   "id": "061d353b-2322-4feb-90c0-b72315692e52",
   "metadata": {},
   "outputs": [
    {
     "data": {
      "text/plain": [
       "(torch.Size([6]), torch.Size([1, 6]))"
      ]
     },
     "execution_count": 7,
     "metadata": {},
     "output_type": "execute_result"
    }
   ],
   "source": [
    "y.shape, scores.shape"
   ]
  },
  {
   "cell_type": "code",
   "execution_count": 8,
   "id": "7393ef50-a0ea-480a-b138-f318fb42d452",
   "metadata": {},
   "outputs": [
    {
     "data": {
      "text/plain": [
       "tensor([0.1100, 0.2200, 0.8400, 0.7300, 0.3300, 0.9200])"
      ]
     },
     "execution_count": 8,
     "metadata": {},
     "output_type": "execute_result"
    }
   ],
   "source": [
    "scores.view(-1)"
   ]
  },
  {
   "cell_type": "code",
   "execution_count": 10,
   "id": "d95611f8-3367-42dc-88b4-4a8e12fe513b",
   "metadata": {},
   "outputs": [
    {
     "data": {
      "text/plain": [
       "tensor([0., 1., 0., 1., 0., 1.])"
      ]
     },
     "execution_count": 10,
     "metadata": {},
     "output_type": "execute_result"
    }
   ],
   "source": [
    "y"
   ]
  },
  {
   "cell_type": "code",
   "execution_count": 1,
   "id": "c061e3eb-d201-4a1e-be79-ab669949d017",
   "metadata": {},
   "outputs": [
    {
     "ename": "TypeError",
     "evalue": "LBSTDataset.__init__() missing 2 required positional arguments: 'csv_file' and 'root_dir'",
     "output_type": "error",
     "traceback": [
      "\u001b[1;31m---------------------------------------------------------------------------\u001b[0m",
      "\u001b[1;31mTypeError\u001b[0m                                 Traceback (most recent call last)",
      "Cell \u001b[1;32mIn[1], line 2\u001b[0m\n\u001b[0;32m      1\u001b[0m \u001b[38;5;28;01mfrom\u001b[39;00m \u001b[38;5;21;01mcustomDataset\u001b[39;00m \u001b[38;5;28;01mimport\u001b[39;00m LBSTDataset\n\u001b[1;32m----> 2\u001b[0m \u001b[43mLBSTDataset\u001b[49m\u001b[43m(\u001b[49m\u001b[43m)\u001b[49m\n",
      "\u001b[1;31mTypeError\u001b[0m: LBSTDataset.__init__() missing 2 required positional arguments: 'csv_file' and 'root_dir'"
     ]
    }
   ],
   "source": [
    "from customDataset import LBSTDataset\n",
    "\n",
    "LBSTDataset()"
   ]
  },
  {
   "cell_type": "code",
   "execution_count": 15,
   "id": "25e6d233-6e77-4c24-8500-e47f3d6b2e28",
   "metadata": {},
   "outputs": [],
   "source": [
    "import pandas as pd\n",
    "csv = pd.read_csv(r\"C:/Users/kaspe/OneDrive - Aarhus Universitet/Skrivebord/BI/4. semester/Data/LBST/train_set_1.csv\")"
   ]
  },
  {
   "cell_type": "code",
   "execution_count": null,
   "id": "e76df8db-8410-4ab7-8a59-d237bb44ebb2",
   "metadata": {},
   "outputs": [],
   "source": []
  },
  {
   "cell_type": "code",
   "execution_count": 14,
   "id": "21b805e9-6bb5-49df-83a4-12541885a9b3",
   "metadata": {},
   "outputs": [
    {
     "data": {
      "text/plain": [
       "tensor(0., dtype=torch.float64)"
      ]
     },
     "execution_count": 14,
     "metadata": {},
     "output_type": "execute_result"
    }
   ],
   "source": [
    "import torch\n",
    "torch.tensor(csv.iloc[1,1], dtype = float)"
   ]
  }
 ],
 "metadata": {
  "kernelspec": {
   "display_name": "Python 3 (ipykernel)",
   "language": "python",
   "name": "python3"
  },
  "language_info": {
   "codemirror_mode": {
    "name": "ipython",
    "version": 3
   },
   "file_extension": ".py",
   "mimetype": "text/x-python",
   "name": "python",
   "nbconvert_exporter": "python",
   "pygments_lexer": "ipython3",
   "version": "3.10.9"
  }
 },
 "nbformat": 4,
 "nbformat_minor": 5
}
